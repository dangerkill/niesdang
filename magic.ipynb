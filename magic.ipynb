{
  "nbformat": 4,
  "nbformat_minor": 0,
  "metadata": {
    "colab": {
      "name": "magic.ipynb",
      "provenance": [],
      "collapsed_sections": []
    },
    "kernelspec": {
      "name": "python3",
      "display_name": "Python 3"
    },
    "language_info": {
      "name": "python"
    }
  },
  "cells": [
    {
      "cell_type": "code",
      "source": [
        "pip install tableone\n"
      ],
      "metadata": {
        "colab": {
          "base_uri": "https://localhost:8080/"
        },
        "id": "vb848kyUT5go",
        "outputId": "7be7e5cf-49de-446f-e0d5-c5375927748d"
      },
      "execution_count": 1,
      "outputs": [
        {
          "output_type": "stream",
          "name": "stdout",
          "text": [
            "Collecting tableone\n",
            "  Downloading tableone-0.7.10-py2.py3-none-any.whl (32 kB)\n",
            "Requirement already satisfied: pandas>=0.22.0 in /usr/local/lib/python3.7/dist-packages (from tableone) (1.3.5)\n",
            "Requirement already satisfied: numpy>=1.12.1 in /usr/local/lib/python3.7/dist-packages (from tableone) (1.21.5)\n",
            "Requirement already satisfied: tabulate>=0.8.2 in /usr/local/lib/python3.7/dist-packages (from tableone) (0.8.9)\n",
            "Requirement already satisfied: scipy>=0.18.1 in /usr/local/lib/python3.7/dist-packages (from tableone) (1.4.1)\n",
            "Requirement already satisfied: statsmodels>=0.8.0 in /usr/local/lib/python3.7/dist-packages (from tableone) (0.10.2)\n",
            "Requirement already satisfied: python-dateutil>=2.7.3 in /usr/local/lib/python3.7/dist-packages (from pandas>=0.22.0->tableone) (2.8.2)\n",
            "Requirement already satisfied: pytz>=2017.3 in /usr/local/lib/python3.7/dist-packages (from pandas>=0.22.0->tableone) (2018.9)\n",
            "Requirement already satisfied: six>=1.5 in /usr/local/lib/python3.7/dist-packages (from python-dateutil>=2.7.3->pandas>=0.22.0->tableone) (1.15.0)\n",
            "Requirement already satisfied: patsy>=0.4.0 in /usr/local/lib/python3.7/dist-packages (from statsmodels>=0.8.0->tableone) (0.5.2)\n",
            "Installing collected packages: tableone\n",
            "Successfully installed tableone-0.7.10\n"
          ]
        }
      ]
    },
    {
      "cell_type": "code",
      "execution_count": 2,
      "metadata": {
        "id": "gQICA3lzCSBu",
        "colab": {
          "base_uri": "https://localhost:8080/"
        },
        "outputId": "a98183d5-9803-45de-e5a9-a29334a583e7"
      },
      "outputs": [
        {
          "output_type": "stream",
          "name": "stderr",
          "text": [
            "/usr/local/lib/python3.7/dist-packages/statsmodels/tools/_testing.py:19: FutureWarning: pandas.util.testing is deprecated. Use the functions in the public API at pandas.testing instead.\n",
            "  import pandas.util.testing as tm\n"
          ]
        }
      ],
      "source": [
        "import pandas as pd\n",
        "import numpy as np\n",
        "import matplotlib.pyplot as plt\n",
        "import seaborn as sns\n",
        "from collections import Counter\n",
        "from tableone import TableOne\n",
        "\n",
        "%matplotlib inline"
      ]
    },
    {
      "cell_type": "code",
      "source": [
        "#load dataset drug\n",
        "df19 = pd.read_csv('/content/NSDUH_2019_Tab.csv',sep = '\t'  )\n",
        "df19.info()"
      ],
      "metadata": {
        "colab": {
          "base_uri": "https://localhost:8080/"
        },
        "id": "VuzKPK3HCZxT",
        "outputId": "4248328c-cf6f-42b6-f450-f71183ff31e1"
      },
      "execution_count": 121,
      "outputs": [
        {
          "output_type": "stream",
          "name": "stderr",
          "text": [
            "/usr/local/lib/python3.7/dist-packages/IPython/core/interactiveshell.py:2882: DtypeWarning: Columns (2575) have mixed types.Specify dtype option on import or set low_memory=False.\n",
            "  exec(code_obj, self.user_global_ns, self.user_ns)\n"
          ]
        },
        {
          "output_type": "stream",
          "name": "stdout",
          "text": [
            "<class 'pandas.core.frame.DataFrame'>\n",
            "RangeIndex: 56136 entries, 0 to 56135\n",
            "Columns: 2741 entries, QUESTID2 to VEREP\n",
            "dtypes: float64(407), int64(2332), object(2)\n",
            "memory usage: 1.1+ GB\n"
          ]
        }
      ]
    },
    {
      "cell_type": "code",
      "source": [
        "#df19.to_csv('data2019.csv')"
      ],
      "metadata": {
        "id": "PejAxoPRHGcz"
      },
      "execution_count": null,
      "outputs": []
    },
    {
      "cell_type": "code",
      "source": [
        "#df19.to_csv('NSDUH2019.csv')"
      ],
      "metadata": {
        "id": "e-GiyBqud06n"
      },
      "execution_count": null,
      "outputs": []
    },
    {
      "cell_type": "code",
      "source": [
        "#load dataset drug\n",
        "df20 = pd.read_csv('/content/NSDUH_2020_Tab.csv',sep = '\t'  )\n",
        "df20.info()"
      ],
      "metadata": {
        "colab": {
          "base_uri": "https://localhost:8080/"
        },
        "id": "P4kp5KoTsqh9",
        "outputId": "f8f67139-be6d-4502-d9da-be0114950525"
      },
      "execution_count": 122,
      "outputs": [
        {
          "output_type": "stream",
          "name": "stderr",
          "text": [
            "/usr/local/lib/python3.7/dist-packages/IPython/core/interactiveshell.py:2882: DtypeWarning: Columns (2726) have mixed types.Specify dtype option on import or set low_memory=False.\n",
            "  exec(code_obj, self.user_global_ns, self.user_ns)\n"
          ]
        },
        {
          "output_type": "stream",
          "name": "stdout",
          "text": [
            "<class 'pandas.core.frame.DataFrame'>\n",
            "RangeIndex: 32893 entries, 0 to 32892\n",
            "Columns: 2890 entries, QUESTID2 to VEREP\n",
            "dtypes: float64(429), int64(2459), object(2)\n",
            "memory usage: 725.3+ MB\n"
          ]
        }
      ]
    },
    {
      "cell_type": "code",
      "source": [
        "#df20 =df20[['CIGEVER','CIGTRY','CIGAGE','ALCEVER','PSILCY']]\n",
        "#CIGEVER-cat,CIGTRY-num,,CIGAGE - num'\n",
        "#df20.info()"
      ],
      "metadata": {
        "id": "KFBPLjsru7YR"
      },
      "execution_count": 6,
      "outputs": []
    },
    {
      "cell_type": "code",
      "source": [
        "df20.head()"
      ],
      "metadata": {
        "colab": {
          "base_uri": "https://localhost:8080/",
          "height": 299
        },
        "id": "B8SRw4FE8KmB",
        "outputId": "53c87101-8431-4c97-d01a-3cbddf689dfd"
      },
      "execution_count": 7,
      "outputs": [
        {
          "output_type": "execute_result",
          "data": {
            "text/html": [
              "\n",
              "  <div id=\"df-88e6c50e-a4ab-4463-90f9-d84e636cc987\">\n",
              "    <div class=\"colab-df-container\">\n",
              "      <div>\n",
              "<style scoped>\n",
              "    .dataframe tbody tr th:only-of-type {\n",
              "        vertical-align: middle;\n",
              "    }\n",
              "\n",
              "    .dataframe tbody tr th {\n",
              "        vertical-align: top;\n",
              "    }\n",
              "\n",
              "    .dataframe thead th {\n",
              "        text-align: right;\n",
              "    }\n",
              "</style>\n",
              "<table border=\"1\" class=\"dataframe\">\n",
              "  <thead>\n",
              "    <tr style=\"text-align: right;\">\n",
              "      <th></th>\n",
              "      <th>QUESTID2</th>\n",
              "      <th>FILEDATE</th>\n",
              "      <th>CIGEVER</th>\n",
              "      <th>CIGOFRSM</th>\n",
              "      <th>CIGWILYR</th>\n",
              "      <th>CIGTRY</th>\n",
              "      <th>CIGYFU</th>\n",
              "      <th>CIGMFU</th>\n",
              "      <th>CIGREC</th>\n",
              "      <th>CIG30USE</th>\n",
              "      <th>...</th>\n",
              "      <th>GOVTPROG</th>\n",
              "      <th>INCOME</th>\n",
              "      <th>POVERTY3</th>\n",
              "      <th>PDEN10</th>\n",
              "      <th>COUTYP4</th>\n",
              "      <th>MAIIN102</th>\n",
              "      <th>AIIND102</th>\n",
              "      <th>ANALWTQ1Q4_C</th>\n",
              "      <th>VESTRQ1Q4_C</th>\n",
              "      <th>VEREP</th>\n",
              "    </tr>\n",
              "  </thead>\n",
              "  <tbody>\n",
              "    <tr>\n",
              "      <th>0</th>\n",
              "      <td>10000182</td>\n",
              "      <td>10/25/2021</td>\n",
              "      <td>1</td>\n",
              "      <td>99</td>\n",
              "      <td>99</td>\n",
              "      <td>16</td>\n",
              "      <td>9999</td>\n",
              "      <td>99</td>\n",
              "      <td>1</td>\n",
              "      <td>30</td>\n",
              "      <td>...</td>\n",
              "      <td>2</td>\n",
              "      <td>4</td>\n",
              "      <td>3.0</td>\n",
              "      <td>3</td>\n",
              "      <td>3</td>\n",
              "      <td>2</td>\n",
              "      <td>2</td>\n",
              "      <td>16186.579071</td>\n",
              "      <td>40048</td>\n",
              "      <td>2</td>\n",
              "    </tr>\n",
              "    <tr>\n",
              "      <th>1</th>\n",
              "      <td>10001831</td>\n",
              "      <td>10/25/2021</td>\n",
              "      <td>1</td>\n",
              "      <td>99</td>\n",
              "      <td>99</td>\n",
              "      <td>8</td>\n",
              "      <td>9999</td>\n",
              "      <td>99</td>\n",
              "      <td>1</td>\n",
              "      <td>24</td>\n",
              "      <td>...</td>\n",
              "      <td>2</td>\n",
              "      <td>3</td>\n",
              "      <td>3.0</td>\n",
              "      <td>2</td>\n",
              "      <td>2</td>\n",
              "      <td>2</td>\n",
              "      <td>2</td>\n",
              "      <td>16809.072854</td>\n",
              "      <td>40022</td>\n",
              "      <td>2</td>\n",
              "    </tr>\n",
              "    <tr>\n",
              "      <th>2</th>\n",
              "      <td>10002722</td>\n",
              "      <td>10/25/2021</td>\n",
              "      <td>2</td>\n",
              "      <td>99</td>\n",
              "      <td>99</td>\n",
              "      <td>991</td>\n",
              "      <td>9991</td>\n",
              "      <td>91</td>\n",
              "      <td>91</td>\n",
              "      <td>91</td>\n",
              "      <td>...</td>\n",
              "      <td>2</td>\n",
              "      <td>2</td>\n",
              "      <td>3.0</td>\n",
              "      <td>1</td>\n",
              "      <td>1</td>\n",
              "      <td>2</td>\n",
              "      <td>2</td>\n",
              "      <td>1379.866862</td>\n",
              "      <td>40011</td>\n",
              "      <td>1</td>\n",
              "    </tr>\n",
              "    <tr>\n",
              "      <th>3</th>\n",
              "      <td>10002897</td>\n",
              "      <td>10/25/2021</td>\n",
              "      <td>2</td>\n",
              "      <td>99</td>\n",
              "      <td>99</td>\n",
              "      <td>991</td>\n",
              "      <td>9991</td>\n",
              "      <td>91</td>\n",
              "      <td>91</td>\n",
              "      <td>91</td>\n",
              "      <td>...</td>\n",
              "      <td>2</td>\n",
              "      <td>4</td>\n",
              "      <td>3.0</td>\n",
              "      <td>1</td>\n",
              "      <td>1</td>\n",
              "      <td>2</td>\n",
              "      <td>2</td>\n",
              "      <td>422.776340</td>\n",
              "      <td>40007</td>\n",
              "      <td>1</td>\n",
              "    </tr>\n",
              "    <tr>\n",
              "      <th>4</th>\n",
              "      <td>10004677</td>\n",
              "      <td>10/25/2021</td>\n",
              "      <td>2</td>\n",
              "      <td>4</td>\n",
              "      <td>4</td>\n",
              "      <td>991</td>\n",
              "      <td>9991</td>\n",
              "      <td>91</td>\n",
              "      <td>91</td>\n",
              "      <td>91</td>\n",
              "      <td>...</td>\n",
              "      <td>2</td>\n",
              "      <td>4</td>\n",
              "      <td>3.0</td>\n",
              "      <td>2</td>\n",
              "      <td>2</td>\n",
              "      <td>2</td>\n",
              "      <td>2</td>\n",
              "      <td>609.829709</td>\n",
              "      <td>40031</td>\n",
              "      <td>1</td>\n",
              "    </tr>\n",
              "  </tbody>\n",
              "</table>\n",
              "<p>5 rows × 2890 columns</p>\n",
              "</div>\n",
              "      <button class=\"colab-df-convert\" onclick=\"convertToInteractive('df-88e6c50e-a4ab-4463-90f9-d84e636cc987')\"\n",
              "              title=\"Convert this dataframe to an interactive table.\"\n",
              "              style=\"display:none;\">\n",
              "        \n",
              "  <svg xmlns=\"http://www.w3.org/2000/svg\" height=\"24px\"viewBox=\"0 0 24 24\"\n",
              "       width=\"24px\">\n",
              "    <path d=\"M0 0h24v24H0V0z\" fill=\"none\"/>\n",
              "    <path d=\"M18.56 5.44l.94 2.06.94-2.06 2.06-.94-2.06-.94-.94-2.06-.94 2.06-2.06.94zm-11 1L8.5 8.5l.94-2.06 2.06-.94-2.06-.94L8.5 2.5l-.94 2.06-2.06.94zm10 10l.94 2.06.94-2.06 2.06-.94-2.06-.94-.94-2.06-.94 2.06-2.06.94z\"/><path d=\"M17.41 7.96l-1.37-1.37c-.4-.4-.92-.59-1.43-.59-.52 0-1.04.2-1.43.59L10.3 9.45l-7.72 7.72c-.78.78-.78 2.05 0 2.83L4 21.41c.39.39.9.59 1.41.59.51 0 1.02-.2 1.41-.59l7.78-7.78 2.81-2.81c.8-.78.8-2.07 0-2.86zM5.41 20L4 18.59l7.72-7.72 1.47 1.35L5.41 20z\"/>\n",
              "  </svg>\n",
              "      </button>\n",
              "      \n",
              "  <style>\n",
              "    .colab-df-container {\n",
              "      display:flex;\n",
              "      flex-wrap:wrap;\n",
              "      gap: 12px;\n",
              "    }\n",
              "\n",
              "    .colab-df-convert {\n",
              "      background-color: #E8F0FE;\n",
              "      border: none;\n",
              "      border-radius: 50%;\n",
              "      cursor: pointer;\n",
              "      display: none;\n",
              "      fill: #1967D2;\n",
              "      height: 32px;\n",
              "      padding: 0 0 0 0;\n",
              "      width: 32px;\n",
              "    }\n",
              "\n",
              "    .colab-df-convert:hover {\n",
              "      background-color: #E2EBFA;\n",
              "      box-shadow: 0px 1px 2px rgba(60, 64, 67, 0.3), 0px 1px 3px 1px rgba(60, 64, 67, 0.15);\n",
              "      fill: #174EA6;\n",
              "    }\n",
              "\n",
              "    [theme=dark] .colab-df-convert {\n",
              "      background-color: #3B4455;\n",
              "      fill: #D2E3FC;\n",
              "    }\n",
              "\n",
              "    [theme=dark] .colab-df-convert:hover {\n",
              "      background-color: #434B5C;\n",
              "      box-shadow: 0px 1px 3px 1px rgba(0, 0, 0, 0.15);\n",
              "      filter: drop-shadow(0px 1px 2px rgba(0, 0, 0, 0.3));\n",
              "      fill: #FFFFFF;\n",
              "    }\n",
              "  </style>\n",
              "\n",
              "      <script>\n",
              "        const buttonEl =\n",
              "          document.querySelector('#df-88e6c50e-a4ab-4463-90f9-d84e636cc987 button.colab-df-convert');\n",
              "        buttonEl.style.display =\n",
              "          google.colab.kernel.accessAllowed ? 'block' : 'none';\n",
              "\n",
              "        async function convertToInteractive(key) {\n",
              "          const element = document.querySelector('#df-88e6c50e-a4ab-4463-90f9-d84e636cc987');\n",
              "          const dataTable =\n",
              "            await google.colab.kernel.invokeFunction('convertToInteractive',\n",
              "                                                     [key], {});\n",
              "          if (!dataTable) return;\n",
              "\n",
              "          const docLinkHtml = 'Like what you see? Visit the ' +\n",
              "            '<a target=\"_blank\" href=https://colab.research.google.com/notebooks/data_table.ipynb>data table notebook</a>'\n",
              "            + ' to learn more about interactive tables.';\n",
              "          element.innerHTML = '';\n",
              "          dataTable['output_type'] = 'display_data';\n",
              "          await google.colab.output.renderOutput(dataTable, element);\n",
              "          const docLink = document.createElement('div');\n",
              "          docLink.innerHTML = docLinkHtml;\n",
              "          element.appendChild(docLink);\n",
              "        }\n",
              "      </script>\n",
              "    </div>\n",
              "  </div>\n",
              "  "
            ],
            "text/plain": [
              "   QUESTID2    FILEDATE  CIGEVER  CIGOFRSM  CIGWILYR  CIGTRY  CIGYFU  CIGMFU  \\\n",
              "0  10000182  10/25/2021        1        99        99      16    9999      99   \n",
              "1  10001831  10/25/2021        1        99        99       8    9999      99   \n",
              "2  10002722  10/25/2021        2        99        99     991    9991      91   \n",
              "3  10002897  10/25/2021        2        99        99     991    9991      91   \n",
              "4  10004677  10/25/2021        2         4         4     991    9991      91   \n",
              "\n",
              "   CIGREC  CIG30USE  ...  GOVTPROG  INCOME  POVERTY3  PDEN10  COUTYP4  \\\n",
              "0       1        30  ...         2       4       3.0       3        3   \n",
              "1       1        24  ...         2       3       3.0       2        2   \n",
              "2      91        91  ...         2       2       3.0       1        1   \n",
              "3      91        91  ...         2       4       3.0       1        1   \n",
              "4      91        91  ...         2       4       3.0       2        2   \n",
              "\n",
              "   MAIIN102  AIIND102  ANALWTQ1Q4_C  VESTRQ1Q4_C  VEREP  \n",
              "0         2         2  16186.579071        40048      2  \n",
              "1         2         2  16809.072854        40022      2  \n",
              "2         2         2   1379.866862        40011      1  \n",
              "3         2         2    422.776340        40007      1  \n",
              "4         2         2    609.829709        40031      1  \n",
              "\n",
              "[5 rows x 2890 columns]"
            ]
          },
          "metadata": {},
          "execution_count": 7
        }
      ]
    },
    {
      "cell_type": "code",
      "source": [
        "df20.PSILCY.unique()"
      ],
      "metadata": {
        "colab": {
          "base_uri": "https://localhost:8080/"
        },
        "id": "DeBLrkU28kd4",
        "outputId": "00dc85a9-6903-481d-e2c6-07d5de0e9fef"
      },
      "execution_count": 8,
      "outputs": [
        {
          "output_type": "execute_result",
          "data": {
            "text/plain": [
              "array([91,  2,  1, 94, 97,  3])"
            ]
          },
          "metadata": {},
          "execution_count": 8
        }
      ]
    },
    {
      "cell_type": "code",
      "source": [
        "#df20_1['CIGWILYR'] = df20_1['CIGWILYR'].astype('category')\n",
        "#df20_1['CIGOFRSM'] = df20_1['CIGOFRSM'].astype('category')"
      ],
      "metadata": {
        "id": "KKGdLezzYDU1"
      },
      "execution_count": null,
      "outputs": []
    },
    {
      "cell_type": "code",
      "source": [
        "#mytable = TableOne(df20, columns=columns ,nonnormal= nonnormal , groupby=groupby, pval=True)"
      ],
      "metadata": {
        "id": "aHcJJolDR7JE"
      },
      "execution_count": null,
      "outputs": []
    },
    {
      "cell_type": "code",
      "source": [
        "#Len : 2 EVER USED PSILOCYBIN (MUSHROOMS) \n",
        "#1 = Yes\n",
        "#2 = no\n",
        "#3 = Yes LOGICALLY ASSIGNED\n",
        "drug20= df20[(df20['PSILCY']== 1) | (df20['PSILCY'] == 3) | (df20['PSILCY'] == 2) |(df20['PSILCY'] == 91)]\n",
        "drug20.nunique"
      ],
      "metadata": {
        "colab": {
          "base_uri": "https://localhost:8080/"
        },
        "id": "hBHwJUwoim_t",
        "outputId": "2a40c124-d0ac-435c-d6fc-454529f82ea9"
      },
      "execution_count": 123,
      "outputs": [
        {
          "output_type": "execute_result",
          "data": {
            "text/plain": [
              "<bound method DataFrame.nunique of        QUESTID2    FILEDATE  CIGEVER  CIGOFRSM  CIGWILYR  CIGTRY  CIGYFU  \\\n",
              "0      10000182  10/25/2021        1        99        99      16    9999   \n",
              "1      10001831  10/25/2021        1        99        99       8    9999   \n",
              "2      10002722  10/25/2021        2        99        99     991    9991   \n",
              "3      10002897  10/25/2021        2        99        99     991    9991   \n",
              "4      10004677  10/25/2021        2         4         4     991    9991   \n",
              "...         ...         ...      ...       ...       ...     ...     ...   \n",
              "32888  43070618  10/25/2021        2        99        99     991    9991   \n",
              "32889  43071867  10/25/2021        2        99        99     991    9991   \n",
              "32890  43074600  10/25/2021        2         4         4     991    9991   \n",
              "32891  43074630  10/25/2021        2        99        99     991    9991   \n",
              "32892  43075406  10/25/2021        1        99        99      15    9999   \n",
              "\n",
              "       CIGMFU  CIGREC  CIG30USE  ...  GOVTPROG  INCOME  POVERTY3  PDEN10  \\\n",
              "0          99       1        30  ...         2       4       3.0       3   \n",
              "1          99       1        24  ...         2       3       3.0       2   \n",
              "2          91      91        91  ...         2       2       3.0       1   \n",
              "3          91      91        91  ...         2       4       3.0       1   \n",
              "4          91      91        91  ...         2       4       3.0       2   \n",
              "...       ...     ...       ...  ...       ...     ...       ...     ...   \n",
              "32888      91      91        91  ...         2       4       3.0       2   \n",
              "32889      91      91        91  ...         2       4       3.0       1   \n",
              "32890      91      91        91  ...         2       3       3.0       2   \n",
              "32891      91      91        91  ...         2       4       3.0       2   \n",
              "32892      99       1        30  ...         1       4       3.0       1   \n",
              "\n",
              "       COUTYP4  MAIIN102  AIIND102  ANALWTQ1Q4_C  VESTRQ1Q4_C  VEREP  \n",
              "0            3         2         2  16186.579071        40048      2  \n",
              "1            2         2         2  16809.072854        40022      2  \n",
              "2            1         2         2   1379.866862        40011      1  \n",
              "3            1         2         2    422.776340        40007      1  \n",
              "4            2         2         2    609.829709        40031      1  \n",
              "...        ...       ...       ...           ...          ...    ...  \n",
              "32888        2         2         2    968.966425        40039      1  \n",
              "32889        1         2         2    329.312176        40010      1  \n",
              "32890        2         2         2    148.718934        40043      1  \n",
              "32891        2         2         2    982.305736        40022      1  \n",
              "32892        1         2         2   8987.391257        40032      1  \n",
              "\n",
              "[32855 rows x 2890 columns]>"
            ]
          },
          "metadata": {},
          "execution_count": 123
        }
      ]
    },
    {
      "cell_type": "code",
      "source": [
        "drug19= df19[(df19['PSILCY']== 1) | (df19['PSILCY'] == 3) | (df19['PSILCY'] == 2) |(df19['PSILCY'] == 91)]\n",
        "drug19.nunique"
      ],
      "metadata": {
        "colab": {
          "base_uri": "https://localhost:8080/"
        },
        "id": "2vCQl8bT-Ent",
        "outputId": "0d6ffffd-899e-4d88-a907-37ddffbde918"
      },
      "execution_count": 124,
      "outputs": [
        {
          "output_type": "execute_result",
          "data": {
            "text/plain": [
              "<bound method DataFrame.nunique of        QUESTID2    FILEDATE  CIGEVER  CIGOFRSM  CIGWILYR  CIGTRY  CIGYFU  \\\n",
              "0      43295143  10/09/2020        1        99        99      13    9999   \n",
              "1      65095143  10/09/2020        2        99        99     991    9991   \n",
              "2      49405143  10/09/2020        1        99        99      22    9999   \n",
              "3      51015143  10/09/2020        2        99        99     991    9991   \n",
              "4      31825143  10/09/2020        2        99        99     991    9991   \n",
              "...         ...         ...      ...       ...       ...     ...     ...   \n",
              "56131  29424730  10/09/2020        1        99        99      17    9999   \n",
              "56132  71744730  10/09/2020        2        99        99     991    9991   \n",
              "56133  38044730  10/09/2020        2         4         4     991    9991   \n",
              "56134  43164730  10/09/2020        2         3         4     991    9991   \n",
              "56135  92074730  10/09/2020        2         4         4     991    9991   \n",
              "\n",
              "       CIGMFU  CIGREC  CIG30USE  ...  POVERTY3  TOOLONG  TROUBUND  PDEN10  \\\n",
              "0          99       4        93  ...       3.0        2         2       2   \n",
              "1          91      91        91  ...       3.0        2         2       2   \n",
              "2          99       4        93  ...       3.0        2         2       2   \n",
              "3          91      91        91  ...       1.0        2         2       2   \n",
              "4          91      91        91  ...       3.0        2         2       2   \n",
              "...       ...     ...       ...  ...       ...      ...       ...     ...   \n",
              "56131      99       4        93  ...       3.0        2         2       3   \n",
              "56132      91      91        91  ...       3.0        2         2       2   \n",
              "56133      91      91        91  ...       3.0        2         2       1   \n",
              "56134      91      91        91  ...       2.0        2         2       1   \n",
              "56135      91      91        91  ...       2.0        2         2       1   \n",
              "\n",
              "       COUTYP4  MAIIN102  AIIND102     ANALWT_C  VESTR  VEREP  \n",
              "0            2         2         2  6613.865847  40004      2  \n",
              "1            2         2         2  6321.580570  40003      1  \n",
              "2            2         2         2  5045.607492  40008      1  \n",
              "3            2         2         2  2419.558820  40031      1  \n",
              "4            2         2         2   575.225454  40010      2  \n",
              "...        ...       ...       ...          ...    ...    ...  \n",
              "56131        3         2         2  2292.155935  40043      2  \n",
              "56132        2         2         2   564.527589  40023      1  \n",
              "56133        1         2         2  2717.640610  40009      1  \n",
              "56134        1         2         2  1853.439383  40046      1  \n",
              "56135        1         2         2   842.165187  40028      1  \n",
              "\n",
              "[56018 rows x 2741 columns]>"
            ]
          },
          "metadata": {},
          "execution_count": 124
        }
      ]
    },
    {
      "cell_type": "code",
      "source": [
        "drug20['PSILCY'] = drug20['PSILCY'].apply(lambda x:1 if(x == 1  or x == 3) else 0)\n",
        "drug19['PSILCY'] = drug19['PSILCY'].apply(lambda x:1 if(x == 1  or x == 3) else 0)"
      ],
      "metadata": {
        "colab": {
          "base_uri": "https://localhost:8080/"
        },
        "id": "rJcMXHnKcTDd",
        "outputId": "5459aea2-710b-4f1d-e936-feb510439281"
      },
      "execution_count": 125,
      "outputs": [
        {
          "output_type": "stream",
          "name": "stderr",
          "text": [
            "/usr/local/lib/python3.7/dist-packages/ipykernel_launcher.py:1: SettingWithCopyWarning: \n",
            "A value is trying to be set on a copy of a slice from a DataFrame.\n",
            "Try using .loc[row_indexer,col_indexer] = value instead\n",
            "\n",
            "See the caveats in the documentation: https://pandas.pydata.org/pandas-docs/stable/user_guide/indexing.html#returning-a-view-versus-a-copy\n",
            "  \"\"\"Entry point for launching an IPython kernel.\n",
            "/usr/local/lib/python3.7/dist-packages/ipykernel_launcher.py:2: SettingWithCopyWarning: \n",
            "A value is trying to be set on a copy of a slice from a DataFrame.\n",
            "Try using .loc[row_indexer,col_indexer] = value instead\n",
            "\n",
            "See the caveats in the documentation: https://pandas.pydata.org/pandas-docs/stable/user_guide/indexing.html#returning-a-view-versus-a-copy\n",
            "  \n"
          ]
        }
      ]
    },
    {
      "cell_type": "code",
      "source": [
        "drug20.loc[drug20['ALCYRTOT'] > 900, 'ALCYRTOT'] = np.nan\n",
        "drug20.loc[drug20['MJAGE']> 980,'MJAGE'] = np.nan\n",
        "drug20.loc[drug20['ALDAYPMO'] > 50, 'ALDAYPMO'] = np.nan\n",
        "drug20.loc[drug20['ALCUS30D'] > 86, 'ALCUS30D'] = np.nan\n",
        "drug20.loc[drug20['BMI2'] > 70, 'BMI2'] = np.nan\n",
        "drug20.loc[drug20['WRKDHRSWK2'] > 62, 'WRKDHRSWK2'] = np.nan\n",
        "drug20.loc[drug20['CIGAGE'] > 900, 'CIGAGE'] = np.nan\n",
        "drug20.loc[drug20['NOMARR2'] > 80, 'NOMARR2'] = np.nan\n",
        "drug20.loc[drug20['MJEVER'] > 80, 'MJEVER'] = np.nan\n",
        "drug20.loc[drug20['ALCEVER'] > 80, 'ALCEVER'] = np.nan\n",
        "drug20.loc[drug20['SMKLSSEVR'] > 90, 'SMKLSSEVR'] = np.nan\n",
        "drug20.loc[drug20['CIGTRY'] > 900, 'CIGTRY'] = np.nan\n",
        "drug20.loc[drug20['CADRKDRUG'] > 80, 'CADRKDRUG'] = np.nan\n",
        "drug20.loc[drug20['HEREVER'] >= 90, 'HEREVER'] = np.nan\n",
        "drug20.loc[drug20['CRKEVER'] >= 90, 'CRKEVER'] = np.nan\n",
        "drug20.loc[drug20['COCEVER'] >= 90, 'COCEVER'] = np.nan\n",
        "drug20.loc[drug20['HLTINMNT'] >= 90, 'HLTINMNT'] = np.nan\n",
        "drug20.loc[drug20['HLTINDRG'] >= 90, 'HLTINDRG'] = np.nan\n",
        "drug20.loc[drug20['HLTINALC'] >= 90, 'HLTINALC'] = np.nan\n",
        "drug20.loc[drug20['WRKSTATWK2'] >= 9, 'WRKSTATWK2'] = np.nan\n",
        "drug20.loc[drug20['DIFFERAND'] >= 80, 'DIFFERAND'] = np.nan\n",
        "drug20.loc[drug20['DIFFTHINK'] >= 80, 'DIFFTHINK'] = np.nan\n",
        "drug20.loc[drug20['SEXIDENT'] >= 80, 'SEXIDENT'] = np.nan\n",
        "\n",
        "drug20.loc[drug20['HEALTH'] >= 90, 'HEALTH'] = np.nan\n",
        "drug20.loc[drug20['SEXAGE'] >= 5, 'SEXAGE'] = np.nan"
      ],
      "metadata": {
        "colab": {
          "base_uri": "https://localhost:8080/"
        },
        "id": "NR9qfD9ywzIK",
        "outputId": "bfe09b1a-36bc-4926-8c66-237a02cb95c6"
      },
      "execution_count": 126,
      "outputs": [
        {
          "output_type": "stream",
          "name": "stderr",
          "text": [
            "/usr/local/lib/python3.7/dist-packages/pandas/core/indexing.py:1817: SettingWithCopyWarning: \n",
            "A value is trying to be set on a copy of a slice from a DataFrame.\n",
            "Try using .loc[row_indexer,col_indexer] = value instead\n",
            "\n",
            "See the caveats in the documentation: https://pandas.pydata.org/pandas-docs/stable/user_guide/indexing.html#returning-a-view-versus-a-copy\n",
            "  self._setitem_single_column(loc, value, pi)\n"
          ]
        }
      ]
    },
    {
      "cell_type": "code",
      "source": [
        "drug20['EDUSCHLGO'] = drug20['EDUSCHLGO'].apply(lambda x : 1 if x == 1  or x == 11 else ( 2 if x == 2 else np.nan))\n",
        "drug19['EDUSCHLGO'] = drug20['EDUSCHLGO'].apply(lambda x : 1 if x == 1  or x == 11 else ( 2 if x == 2 else np.nan))\n",
        "#lambda x : x*2 if x < 10 else (x*3 if x < 20 else x)"
      ],
      "metadata": {
        "colab": {
          "base_uri": "https://localhost:8080/"
        },
        "id": "sFdnJyXvA11p",
        "outputId": "57b7c6b1-3aa4-46e3-c6ec-ec8e9fbdb26d"
      },
      "execution_count": 127,
      "outputs": [
        {
          "output_type": "stream",
          "name": "stderr",
          "text": [
            "/usr/local/lib/python3.7/dist-packages/ipykernel_launcher.py:1: SettingWithCopyWarning: \n",
            "A value is trying to be set on a copy of a slice from a DataFrame.\n",
            "Try using .loc[row_indexer,col_indexer] = value instead\n",
            "\n",
            "See the caveats in the documentation: https://pandas.pydata.org/pandas-docs/stable/user_guide/indexing.html#returning-a-view-versus-a-copy\n",
            "  \"\"\"Entry point for launching an IPython kernel.\n",
            "/usr/local/lib/python3.7/dist-packages/ipykernel_launcher.py:2: SettingWithCopyWarning: \n",
            "A value is trying to be set on a copy of a slice from a DataFrame.\n",
            "Try using .loc[row_indexer,col_indexer] = value instead\n",
            "\n",
            "See the caveats in the documentation: https://pandas.pydata.org/pandas-docs/stable/user_guide/indexing.html#returning-a-view-versus-a-copy\n",
            "  \n"
          ]
        }
      ]
    },
    {
      "cell_type": "code",
      "source": [
        "drug19.loc[drug19['ALCYRTOT'] > 900, 'ALCYRTOT'] = np.nan\n",
        "drug19.loc[drug19['MJAGE']> 980,'MJAGE'] = np.nan\n",
        "drug19.loc[drug19['ALDAYPMO'] > 50, 'ALDAYPMO'] = np.nan\n",
        "drug19.loc[drug19['ALCUS30D'] > 86, 'ALCUS30D'] = np.nan\n",
        "drug19.loc[drug19['BMI2'] > 70, 'BMI2'] = np.nan\n",
        "drug19.loc[drug19['WRKDHRSWK2'] > 62, 'WRKDHRSWK2'] = np.nan\n",
        "drug19.loc[drug19['CIGAGE'] > 900, 'CIGAGE'] = np.nan\n",
        "drug19.loc[drug19['NOMARR2'] > 80, 'NOMARR2'] = np.nan\n",
        "drug19.loc[drug19['MJEVER'] > 80, 'MJEVER'] = np.nan\n",
        "drug19.loc[drug19['ALCEVER'] > 80, 'ALCEVER'] = np.nan\n",
        "drug19.loc[drug19['SMKLSSEVR'] > 90, 'SMKLSSEVR'] = np.nan\n",
        "drug19.loc[drug19['CIGTRY'] > 900, 'CIGTRY'] = np.nan\n",
        "drug19.loc[drug19['CADRKDRUG'] > 80, 'CADRKDRUG'] = np.nan\n",
        "drug19.loc[drug19['HEREVER'] >= 90, 'HEREVER'] = np.nan\n",
        "drug19.loc[drug19['CRKEVER'] >= 90, 'CRKEVER'] = np.nan\n",
        "drug19.loc[drug19['COCEVER'] >= 90, 'COCEVER'] = np.nan\n",
        "drug19.loc[drug19['HLTINMNT'] >= 90, 'HLTINMNT'] = np.nan\n",
        "drug19.loc[drug19['HLTINDRG'] >= 90, 'HLTINDRG'] = np.nan\n",
        "drug19.loc[drug19['HLTINALC'] >= 90, 'HLTINALC'] = np.nan\n",
        "drug19.loc[drug19['WRKSTATWK2'] >= 9, 'WRKSTATWK2'] = np.nan\n",
        "drug19.loc[drug19['DIFFERAND'] >= 80, 'DIFFERAND'] = np.nan\n",
        "drug19.loc[drug19['DIFFTHINK'] >= 80, 'DIFFTHINK'] = np.nan\n",
        "drug19.loc[drug19['SEXIDENT'] >= 80, 'SEXIDENT'] = np.nan\n",
        "drug19.loc[drug19['HEALTH'] >= 90, 'HEALTH'] = np.nan\n",
        "drug19.loc[drug19['SEXAGE'] >= 5, 'SEXAGE'] = np.nan"
      ],
      "metadata": {
        "id": "tZnxrI9U95Xw",
        "colab": {
          "base_uri": "https://localhost:8080/"
        },
        "outputId": "63d484ad-7319-4c2f-baf8-7dd3e625380d"
      },
      "execution_count": 128,
      "outputs": [
        {
          "output_type": "stream",
          "name": "stderr",
          "text": [
            "/usr/local/lib/python3.7/dist-packages/pandas/core/indexing.py:1817: SettingWithCopyWarning: \n",
            "A value is trying to be set on a copy of a slice from a DataFrame.\n",
            "Try using .loc[row_indexer,col_indexer] = value instead\n",
            "\n",
            "See the caveats in the documentation: https://pandas.pydata.org/pandas-docs/stable/user_guide/indexing.html#returning-a-view-versus-a-copy\n",
            "  self._setitem_single_column(loc, value, pi)\n"
          ]
        }
      ]
    },
    {
      "cell_type": "code",
      "source": [
        ""
      ],
      "metadata": {
        "id": "DZ0SY1VT_-OZ"
      },
      "execution_count": null,
      "outputs": []
    },
    {
      "cell_type": "code",
      "source": [
        "columns = ['PSILCY','CIGTRY','CIGAGE','SMKLSSEVR','ALCEVER','ALCYRTOT','ALCUS30D','MJEVER','MJAGE','BMI2','NOMARR2','CADRKDRUG','SEXAGE','NEWRACE2',\n",
        "           'SEXRACE','HEALTH','EDUSCHLGO','SEXIDENT','DIFFTHINK','DIFFERAND','IREDUHIGHST2','WRKSTATWK2','WRKDHRSWK2','HLTINALC','HLTINDRG','HLTINMNT'\n",
        "           ,'COCEVER','CRKEVER','HEREVER']\n",
        "categorical = ['SMKLSSEVR','ALCEVER','MJEVER','NOMARR2','CADRKDRUG','SEXAGE','NEWRACE2','SEXRACE','HEALTH','EDUSCHLGO','SEXIDENT','DIFFTHINK'\n",
        "            ,'DIFFERAND','IREDUHIGHST2','WRKSTATWK2','HLTINALC','HLTINDRG','HLTINMNT','COCEVER','CRKEVER','HEREVER']\n",
        "groupby = 'PSILCY'\n",
        "nonnormal = []\n",
        "labels={'CIGTRY': 'FIRST_SMOKED','CIGAGE':'STARTSMOKEE','SMKLSSEVR':'SMOKELESS_TOBACCO','ALCEVER':'Ever_Alcohol','ALCYRTOT':'Total_Drinkday',\n",
        "        'MJEVER':'MariJuana_ever','MJAGE':'first_Marijuana','BMI2':'BMI','NOMARR2':'Number_Marry_Times','CADRKDRUG':'Drug_When_Drink','SEXAGE':'Sex&Age'\n",
        "        ,'NEWRACE2':'Race','SEXRACE':'Sex&Race','HEALTH':'Health_Condition','EDUSCHLGO':'Currently_School','SEXIDENT':'SEXUAL IDENTITY','DIFFTHINK':'Difficult_Thinking',\n",
        "        'DIFFERAND':'Difficult_Doing_Errand','IREDUHIGHST2':'EDUCATION-RECODED_IMPUTATION_REVISED','WRKSTATWK2':'WORK_SITUATION_PastWeek',\n",
        "        'WRKDHRSWK2':'Work_Hours_lastweek','HLTINALC':'ALCOHOL ABUSE OR ALCOHOLISM','HLTINDRG':'HLTINDRG','HLTINMNT':'MENTAL OR EMOTIONAL DIFFICULTIES'\n",
        "        ,'COCEVER':'Everuse_Cocain','CRKEVER':'EverUseCrack','HEREVER':'EverUseHeroin'}"
      ],
      "metadata": {
        "id": "soRvOrlVc3pt"
      },
      "execution_count": 129,
      "outputs": []
    },
    {
      "cell_type": "code",
      "source": [
        "mytable19 = TableOne(drug19, columns=columns ,categorical = categorical,missing= True,rename= labels, nonnormal= nonnormal ,pval=True, groupby=groupby,htest_name=True,row_percent= True,tukey_test = True,dip_test= True,normal_test= True)\n"
      ],
      "metadata": {
        "colab": {
          "base_uri": "https://localhost:8080/"
        },
        "id": "7PsIfjkr-UbX",
        "outputId": "81107733-9eaa-4a24-e582-7c299a7b1cd1"
      },
      "execution_count": 130,
      "outputs": [
        {
          "output_type": "stream",
          "name": "stderr",
          "text": [
            "/usr/local/lib/python3.7/dist-packages/tableone/tableone.py:991: FutureWarning: Using the level keyword in DataFrame and Series aggregations is deprecated and will be removed in a future version. Use groupby instead. df.sum(level=1) should use df.groupby(level=1).sum().\n",
            "  df['percent'] = df['freq'].div(df.freq.sum(level=0),\n"
          ]
        }
      ]
    },
    {
      "cell_type": "code",
      "source": [
        "print(mytable19.tabulate(tablefmt=\"fancy_grid\"))\n"
      ],
      "metadata": {
        "colab": {
          "base_uri": "https://localhost:8080/"
        },
        "id": "GgHeWlqs-ZvE",
        "outputId": "34f1e5c4-b430-4d8e-b7c5-dde7574fdcc3"
      },
      "execution_count": 131,
      "outputs": [
        {
          "output_type": "stream",
          "name": "stdout",
          "text": [
            "╒═════════════════════════════════════════════╤═════╤═══════════╤═══════════════╤══════════════╤═══════════════╤═══════════╤═══════════════════╕\n",
            "│                                             │     │ Missing   │ Overall       │ 0            │ 1             │ P-Value   │ Test              │\n",
            "╞═════════════════════════════════════════════╪═════╪═══════════╪═══════════════╪══════════════╪═══════════════╪═══════════╪═══════════════════╡\n",
            "│ n                                           │     │           │ 56018         │ 51319        │ 4699          │           │                   │\n",
            "├─────────────────────────────────────────────┼─────┼───────────┼───────────────┼──────────────┼───────────────┼───────────┼───────────────────┤\n",
            "│ FIRST_SMOKED, mean (SD)                     │     │ 30680     │ 16.0 (4.1)    │ 16.2 (4.1)   │ 14.8 (3.6)    │ <0.001    │ Two Sample T-test │\n",
            "├─────────────────────────────────────────────┼─────┼───────────┼───────────────┼──────────────┼───────────────┼───────────┼───────────────────┤\n",
            "│ STARTSMOKEE, mean (SD)                      │     │ 42949     │ 18.0 (4.6)    │ 18.2 (4.8)   │ 17.4 (4.1)    │ <0.001    │ Two Sample T-test │\n",
            "├─────────────────────────────────────────────┼─────┼───────────┼───────────────┼──────────────┼───────────────┼───────────┼───────────────────┤\n",
            "│ SMOKELESS_TOBACCO, n (%)                    │ 1.0 │ 48        │ 8523 (100.0)  │ 6384 (74.9)  │ 2139 (25.1)   │ <0.001    │ Chi-squared       │\n",
            "├─────────────────────────────────────────────┼─────┼───────────┼───────────────┼──────────────┼───────────────┼───────────┼───────────────────┤\n",
            "│                                             │ 2.0 │           │ 47447 (100.0) │ 44889 (94.6) │ 2558 (5.4)    │           │                   │\n",
            "├─────────────────────────────────────────────┼─────┼───────────┼───────────────┼──────────────┼───────────────┼───────────┼───────────────────┤\n",
            "│ Ever_Alcohol, n (%)                         │ 1.0 │ 29        │ 40072 (100.0) │ 35418 (88.4) │ 4654 (11.6)   │ <0.001    │ Chi-squared       │\n",
            "├─────────────────────────────────────────────┼─────┼───────────┼───────────────┼──────────────┼───────────────┼───────────┼───────────────────┤\n",
            "│                                             │ 2.0 │           │ 15917 (100.0) │ 15872 (99.7) │ 45 (0.3)      │           │                   │\n",
            "├─────────────────────────────────────────────┼─────┼───────────┼───────────────┼──────────────┼───────────────┼───────────┼───────────────────┤\n",
            "│ Total_Drinkday, mean (SD)                   │     │ 22907     │ 80.8 (90.2)   │ 75.2 (86.8)  │ 121.0 (102.9) │ <0.001    │ Two Sample T-test │\n",
            "├─────────────────────────────────────────────┼─────┼───────────┼───────────────┼──────────────┼───────────────┼───────────┼───────────────────┤\n",
            "│ ALCUS30D, mean (SD)                         │     │ 32467     │ 3.0 (3.2)     │ 2.9 (3.2)    │ 3.6 (3.6)     │ <0.001    │ Two Sample T-test │\n",
            "├─────────────────────────────────────────────┼─────┼───────────┼───────────────┼──────────────┼───────────────┼───────────┼───────────────────┤\n",
            "│ MariJuana_ever, n (%)                       │ 1.0 │ 33        │ 24771 (100.0) │ 20141 (81.3) │ 4630 (18.7)   │ <0.001    │ Chi-squared       │\n",
            "├─────────────────────────────────────────────┼─────┼───────────┼───────────────┼──────────────┼───────────────┼───────────┼───────────────────┤\n",
            "│                                             │ 2.0 │           │ 31214 (100.0) │ 31146 (99.8) │ 68 (0.2)      │           │                   │\n",
            "├─────────────────────────────────────────────┼─────┼───────────┼───────────────┼──────────────┼───────────────┼───────────┼───────────────────┤\n",
            "│ first_Marijuana, mean (SD)                  │     │ 31472     │ 17.3 (5.1)    │ 17.8 (5.4)   │ 15.4 (3.2)    │ <0.001    │ Two Sample T-test │\n",
            "├─────────────────────────────────────────────┼─────┼───────────┼───────────────┼──────────────┼───────────────┼───────────┼───────────────────┤\n",
            "│ BMI, mean (SD)                              │     │ 2909      │ 27.0 (6.7)    │ 27.0 (6.8)   │ 26.9 (5.9)    │ 0.222     │ Two Sample T-test │\n",
            "├─────────────────────────────────────────────┼─────┼───────────┼───────────────┼──────────────┼───────────────┼───────────┼───────────────────┤\n",
            "│ Number_Marry_Times, n (%)                   │ 1.0 │ 33222     │ 17920 (100.0) │ 16261 (90.7) │ 1659 (9.3)    │ 0.164     │ Chi-squared       │\n",
            "├─────────────────────────────────────────────┼─────┼───────────┼───────────────┼──────────────┼───────────────┼───────────┼───────────────────┤\n",
            "│                                             │ 2.0 │           │ 4876 (100.0)  │ 4392 (90.1)  │ 484 (9.9)     │           │                   │\n",
            "├─────────────────────────────────────────────┼─────┼───────────┼───────────────┼──────────────┼───────────────┼───────────┼───────────────────┤\n",
            "│ Drug_When_Drink, n (%)                      │ 1.0 │ 50190     │ 3082 (100.0)  │ 1816 (58.9)  │ 1266 (41.1)   │ <0.001    │ Chi-squared       │\n",
            "├─────────────────────────────────────────────┼─────┼───────────┼───────────────┼──────────────┼───────────────┼───────────┼───────────────────┤\n",
            "│                                             │ 2.0 │           │ 2746 (100.0)  │ 1971 (71.8)  │ 775 (28.2)    │           │                   │\n",
            "├─────────────────────────────────────────────┼─────┼───────────┼───────────────┼──────────────┼───────────────┼───────────┼───────────────────┤\n",
            "│ Sex&Age, n (%)                              │ 1.0 │ 28493     │ 6812 (100.0)  │ 6716 (98.6)  │ 96 (1.4)      │ <0.001    │ Chi-squared       │\n",
            "├─────────────────────────────────────────────┼─────┼───────────┼───────────────┼──────────────┼───────────────┼───────────┼───────────────────┤\n",
            "│                                             │ 2.0 │           │ 6496 (100.0)  │ 6436 (99.1)  │ 60 (0.9)      │           │                   │\n",
            "├─────────────────────────────────────────────┼─────┼───────────┼───────────────┼──────────────┼───────────────┼───────────┼───────────────────┤\n",
            "│                                             │ 3.0 │           │ 7038 (100.0)  │ 6215 (88.3)  │ 823 (11.7)    │           │                   │\n",
            "├─────────────────────────────────────────────┼─────┼───────────┼───────────────┼──────────────┼───────────────┼───────────┼───────────────────┤\n",
            "│                                             │ 4.0 │           │ 7179 (100.0)  │ 6702 (93.4)  │ 477 (6.6)     │           │                   │\n",
            "├─────────────────────────────────────────────┼─────┼───────────┼───────────────┼──────────────┼───────────────┼───────────┼───────────────────┤\n",
            "│ Race, n (%)                                 │ 1   │ 0         │ 32023 (100.0) │ 28385 (88.6) │ 3638 (11.4)   │ <0.001    │ Chi-squared       │\n",
            "├─────────────────────────────────────────────┼─────┼───────────┼───────────────┼──────────────┼───────────────┼───────────┼───────────────────┤\n",
            "│                                             │ 2   │           │ 7250 (100.0)  │ 7113 (98.1)  │ 137 (1.9)     │           │                   │\n",
            "├─────────────────────────────────────────────┼─────┼───────────┼───────────────┼──────────────┼───────────────┼───────────┼───────────────────┤\n",
            "│                                             │ 3   │           │ 752 (100.0)   │ 680 (90.4)   │ 72 (9.6)      │           │                   │\n",
            "├─────────────────────────────────────────────┼─────┼───────────┼───────────────┼──────────────┼───────────────┼───────────┼───────────────────┤\n",
            "│                                             │ 4   │           │ 289 (100.0)   │ 278 (96.2)   │ 11 (3.8)      │           │                   │\n",
            "├─────────────────────────────────────────────┼─────┼───────────┼───────────────┼──────────────┼───────────────┼───────────┼───────────────────┤\n",
            "│                                             │ 5   │           │ 2681 (100.0)  │ 2592 (96.7)  │ 89 (3.3)      │           │                   │\n",
            "├─────────────────────────────────────────────┼─────┼───────────┼───────────────┼──────────────┼───────────────┼───────────┼───────────────────┤\n",
            "│                                             │ 6   │           │ 2195 (100.0)  │ 1955 (89.1)  │ 240 (10.9)    │           │                   │\n",
            "├─────────────────────────────────────────────┼─────┼───────────┼───────────────┼──────────────┼───────────────┼───────────┼───────────────────┤\n",
            "│                                             │ 7   │           │ 10828 (100.0) │ 10316 (95.3) │ 512 (4.7)     │           │                   │\n",
            "├─────────────────────────────────────────────┼─────┼───────────┼───────────────┼──────────────┼───────────────┼───────────┼───────────────────┤\n",
            "│ Sex&Race, n (%)                             │ 1   │ 0         │ 15315 (100.0) │ 13057 (85.3) │ 2258 (14.7)   │ <0.001    │ Chi-squared       │\n",
            "├─────────────────────────────────────────────┼─────┼───────────┼───────────────┼──────────────┼───────────────┼───────────┼───────────────────┤\n",
            "│                                             │ 2   │           │ 16708 (100.0) │ 15328 (91.7) │ 1380 (8.3)    │           │                   │\n",
            "├─────────────────────────────────────────────┼─────┼───────────┼───────────────┼──────────────┼───────────────┼───────────┼───────────────────┤\n",
            "│                                             │ 3   │           │ 3341 (100.0)  │ 3249 (97.2)  │ 92 (2.8)      │           │                   │\n",
            "├─────────────────────────────────────────────┼─────┼───────────┼───────────────┼──────────────┼───────────────┼───────────┼───────────────────┤\n",
            "│                                             │ 4   │           │ 3909 (100.0)  │ 3864 (98.8)  │ 45 (1.2)      │           │                   │\n",
            "├─────────────────────────────────────────────┼─────┼───────────┼───────────────┼──────────────┼───────────────┼───────────┼───────────────────┤\n",
            "│                                             │ 5   │           │ 5160 (100.0)  │ 4836 (93.7)  │ 324 (6.3)     │           │                   │\n",
            "├─────────────────────────────────────────────┼─────┼───────────┼───────────────┼──────────────┼───────────────┼───────────┼───────────────────┤\n",
            "│                                             │ 6   │           │ 5668 (100.0)  │ 5480 (96.7)  │ 188 (3.3)     │           │                   │\n",
            "├─────────────────────────────────────────────┼─────┼───────────┼───────────────┼──────────────┼───────────────┼───────────┼───────────────────┤\n",
            "│                                             │ 7   │           │ 5917 (100.0)  │ 5505 (93.0)  │ 412 (7.0)     │           │                   │\n",
            "├─────────────────────────────────────────────┼─────┼───────────┼───────────────┼──────────────┼───────────────┼───────────┼───────────────────┤\n",
            "│ Health_Condition, n (%)                     │ 1.0 │ 9         │ 13929 (100.0) │ 13072 (93.8) │ 857 (6.2)     │ <0.001    │ Chi-squared       │\n",
            "├─────────────────────────────────────────────┼─────┼───────────┼───────────────┼──────────────┼───────────────┼───────────┼───────────────────┤\n",
            "│                                             │ 2.0 │           │ 21212 (100.0) │ 19382 (91.4) │ 1830 (8.6)    │           │                   │\n",
            "├─────────────────────────────────────────────┼─────┼───────────┼───────────────┼──────────────┼───────────────┼───────────┼───────────────────┤\n",
            "│                                             │ 3.0 │           │ 15297 (100.0) │ 13874 (90.7) │ 1423 (9.3)    │           │                   │\n",
            "├─────────────────────────────────────────────┼─────┼───────────┼───────────────┼──────────────┼───────────────┼───────────┼───────────────────┤\n",
            "│                                             │ 4.0 │           │ 4812 (100.0)  │ 4303 (89.4)  │ 509 (10.6)    │           │                   │\n",
            "├─────────────────────────────────────────────┼─────┼───────────┼───────────────┼──────────────┼───────────────┼───────────┼───────────────────┤\n",
            "│                                             │ 5.0 │           │ 759 (100.0)   │ 680 (89.6)   │ 79 (10.4)     │           │                   │\n",
            "├─────────────────────────────────────────────┼─────┼───────────┼───────────────┼──────────────┼───────────────┼───────────┼───────────────────┤\n",
            "│ Currently_School, n (%)                     │ 1.0 │ 24663     │ 8810 (100.0)  │ 8041 (91.3)  │ 769 (8.7)     │ 0.203     │ Chi-squared       │\n",
            "├─────────────────────────────────────────────┼─────┼───────────┼───────────────┼──────────────┼───────────────┼───────────┼───────────────────┤\n",
            "│                                             │ 2.0 │           │ 22545 (100.0) │ 20679 (91.7) │ 1866 (8.3)    │           │                   │\n",
            "├─────────────────────────────────────────────┼─────┼───────────┼───────────────┼──────────────┼───────────────┼───────────┼───────────────────┤\n",
            "│ SEXUAL IDENTITY, n (%)                      │ 1.0 │ 14205     │ 38195 (100.0) │ 34340 (89.9) │ 3855 (10.1)   │ <0.001    │ Chi-squared       │\n",
            "├─────────────────────────────────────────────┼─────┼───────────┼───────────────┼──────────────┼───────────────┼───────────┼───────────────────┤\n",
            "│                                             │ 2.0 │           │ 976 (100.0)   │ 838 (85.9)   │ 138 (14.1)    │           │                   │\n",
            "├─────────────────────────────────────────────┼─────┼───────────┼───────────────┼──────────────┼───────────────┼───────────┼───────────────────┤\n",
            "│                                             │ 3.0 │           │ 2642 (100.0)  │ 2145 (81.2)  │ 497 (18.8)    │           │                   │\n",
            "├─────────────────────────────────────────────┼─────┼───────────┼───────────────┼──────────────┼───────────────┼───────────┼───────────────────┤\n",
            "│ Difficult_Thinking, n (%)                   │ 1.0 │ 494       │ 6726 (100.0)  │ 6001 (89.2)  │ 725 (10.8)    │ <0.001    │ Chi-squared       │\n",
            "├─────────────────────────────────────────────┼─────┼───────────┼───────────────┼──────────────┼───────────────┼───────────┼───────────────────┤\n",
            "│                                             │ 2.0 │           │ 48798 (100.0) │ 44851 (91.9) │ 3947 (8.1)    │           │                   │\n",
            "├─────────────────────────────────────────────┼─────┼───────────┼───────────────┼──────────────┼───────────────┼───────────┼───────────────────┤\n",
            "│ Difficult_Doing_Errand, n (%)               │ 1.0 │ 6772      │ 2738 (100.0)  │ 2383 (87.0)  │ 355 (13.0)    │ <0.001    │ Chi-squared       │\n",
            "├─────────────────────────────────────────────┼─────┼───────────┼───────────────┼──────────────┼───────────────┼───────────┼───────────────────┤\n",
            "│                                             │ 2.0 │           │ 46508 (100.0) │ 42209 (90.8) │ 4299 (9.2)    │           │                   │\n",
            "├─────────────────────────────────────────────┼─────┼───────────┼───────────────┼──────────────┼───────────────┼───────────┼───────────────────┤\n",
            "│ EDUCATION-RECODED_IMPUTATION_REVISED, n (%) │ 1   │ 0         │ 1062 (100.0)  │ 1046 (98.5)  │ 16 (1.5)      │ <0.001    │ Chi-squared       │\n",
            "├─────────────────────────────────────────────┼─────┼───────────┼───────────────┼──────────────┼───────────────┼───────────┼───────────────────┤\n",
            "│                                             │ 10  │           │ 4042 (100.0)  │ 3590 (88.8)  │ 452 (11.2)    │           │                   │\n",
            "├─────────────────────────────────────────────┼─────┼───────────┼───────────────┼──────────────┼───────────────┼───────────┼───────────────────┤\n",
            "│                                             │ 11  │           │ 11626 (100.0) │ 10253 (88.2) │ 1373 (11.8)   │           │                   │\n",
            "├─────────────────────────────────────────────┼─────┼───────────┼───────────────┼──────────────┼───────────────┼───────────┼───────────────────┤\n",
            "│                                             │ 2   │           │ 2196 (100.0)  │ 2187 (99.6)  │ 9 (0.4)       │           │                   │\n",
            "├─────────────────────────────────────────────┼─────┼───────────┼───────────────┼──────────────┼───────────────┼───────────┼───────────────────┤\n",
            "│                                             │ 3   │           │ 2277 (100.0)  │ 2264 (99.4)  │ 13 (0.6)      │           │                   │\n",
            "├─────────────────────────────────────────────┼─────┼───────────┼───────────────┼──────────────┼───────────────┼───────────┼───────────────────┤\n",
            "│                                             │ 4   │           │ 2667 (100.0)  │ 2627 (98.5)  │ 40 (1.5)      │           │                   │\n",
            "├─────────────────────────────────────────────┼─────┼───────────┼───────────────┼──────────────┼───────────────┼───────────┼───────────────────┤\n",
            "│                                             │ 5   │           │ 2970 (100.0)  │ 2909 (97.9)  │ 61 (2.1)      │           │                   │\n",
            "├─────────────────────────────────────────────┼─────┼───────────┼───────────────┼──────────────┼───────────────┼───────────┼───────────────────┤\n",
            "│                                             │ 6   │           │ 3038 (100.0)  │ 2915 (96.0)  │ 123 (4.0)     │           │                   │\n",
            "├─────────────────────────────────────────────┼─────┼───────────┼───────────────┼──────────────┼───────────────┼───────────┼───────────────────┤\n",
            "│                                             │ 7   │           │ 4172 (100.0)  │ 3950 (94.7)  │ 222 (5.3)     │           │                   │\n",
            "├─────────────────────────────────────────────┼─────┼───────────┼───────────────┼──────────────┼───────────────┼───────────┼───────────────────┤\n",
            "│                                             │ 8   │           │ 11571 (100.0) │ 10446 (90.3) │ 1125 (9.7)    │           │                   │\n",
            "├─────────────────────────────────────────────┼─────┼───────────┼───────────────┼──────────────┼───────────────┼───────────┼───────────────────┤\n",
            "│                                             │ 9   │           │ 10397 (100.0) │ 9132 (87.8)  │ 1265 (12.2)   │           │                   │\n",
            "├─────────────────────────────────────────────┼─────┼───────────┼───────────────┼──────────────┼───────────────┼───────────┼───────────────────┤\n",
            "│ WORK_SITUATION_PastWeek, n (%)              │ 1.0 │ 12659     │ 20887 (100.0) │ 18269 (87.5) │ 2618 (12.5)   │ <0.001    │ Chi-squared       │\n",
            "├─────────────────────────────────────────────┼─────┼───────────┼───────────────┼──────────────┼───────────────┼───────────┼───────────────────┤\n",
            "│                                             │ 2.0 │           │ 6966 (100.0)  │ 6335 (90.9)  │ 631 (9.1)     │           │                   │\n",
            "├─────────────────────────────────────────────┼─────┼───────────┼───────────────┼──────────────┼───────────────┼───────────┼───────────────────┤\n",
            "│                                             │ 3.0 │           │ 2965 (100.0)  │ 2743 (92.5)  │ 222 (7.5)     │           │                   │\n",
            "├─────────────────────────────────────────────┼─────┼───────────┼───────────────┼──────────────┼───────────────┼───────────┼───────────────────┤\n",
            "│                                             │ 4.0 │           │ 2528 (100.0)  │ 2284 (90.3)  │ 244 (9.7)     │           │                   │\n",
            "├─────────────────────────────────────────────┼─────┼───────────┼───────────────┼──────────────┼───────────────┼───────────┼───────────────────┤\n",
            "│                                             │ 5.0 │           │ 1534 (100.0)  │ 1346 (87.7)  │ 188 (12.3)    │           │                   │\n",
            "├─────────────────────────────────────────────┼─────┼───────────┼───────────────┼──────────────┼───────────────┼───────────┼───────────────────┤\n",
            "│                                             │ 6.0 │           │ 1885 (100.0)  │ 1743 (92.5)  │ 142 (7.5)     │           │                   │\n",
            "├─────────────────────────────────────────────┼─────┼───────────┼───────────────┼──────────────┼───────────────┼───────────┼───────────────────┤\n",
            "│                                             │ 7.0 │           │ 3480 (100.0)  │ 3349 (96.2)  │ 131 (3.8)     │           │                   │\n",
            "├─────────────────────────────────────────────┼─────┼───────────┼───────────────┼──────────────┼───────────────┼───────────┼───────────────────┤\n",
            "│                                             │ 8.0 │           │ 3114 (100.0)  │ 2978 (95.6)  │ 136 (4.4)     │           │                   │\n",
            "├─────────────────────────────────────────────┼─────┼───────────┼───────────────┼──────────────┼───────────────┼───────────┼───────────────────┤\n",
            "│ Work_Hours_lastweek, mean (SD)              │     │ 28360     │ 36.5 (14.0)   │ 36.2 (14.1)  │ 38.5 (13.0)   │ <0.001    │ Two Sample T-test │\n",
            "├─────────────────────────────────────────────┼─────┼───────────┼───────────────┼──────────────┼───────────────┼───────────┼───────────────────┤\n",
            "│ ALCOHOL ABUSE OR ALCOHOLISM, n (%)          │ 1.0 │ 35720     │ 16073 (100.0) │ 14630 (91.0) │ 1443 (9.0)    │ 0.712     │ Chi-squared       │\n",
            "├─────────────────────────────────────────────┼─────┼───────────┼───────────────┼──────────────┼───────────────┼───────────┼───────────────────┤\n",
            "│                                             │ 2.0 │           │ 4225 (100.0)  │ 3854 (91.2)  │ 371 (8.8)     │           │                   │\n",
            "├─────────────────────────────────────────────┼─────┼───────────┼───────────────┼──────────────┼───────────────┼───────────┼───────────────────┤\n",
            "│ HLTINDRG, n (%)                             │ 1.0 │ 35515     │ 16118 (100.0) │ 14644 (90.9) │ 1474 (9.1)    │ 0.155     │ Chi-squared       │\n",
            "├─────────────────────────────────────────────┼─────┼───────────┼───────────────┼──────────────┼───────────────┼───────────┼───────────────────┤\n",
            "│                                             │ 2.0 │           │ 4385 (100.0)  │ 4015 (91.6)  │ 370 (8.4)     │           │                   │\n",
            "├─────────────────────────────────────────────┼─────┼───────────┼───────────────┼──────────────┼───────────────┼───────────┼───────────────────┤\n",
            "│ MENTAL OR EMOTIONAL DIFFICULTIES, n (%)     │ 1.0 │ 29056     │ 23928 (100.0) │ 21773 (91.0) │ 2155 (9.0)    │ 0.049     │ Chi-squared       │\n",
            "├─────────────────────────────────────────────┼─────┼───────────┼───────────────┼──────────────┼───────────────┼───────────┼───────────────────┤\n",
            "│                                             │ 2.0 │           │ 3034 (100.0)  │ 2794 (92.1)  │ 240 (7.9)     │           │                   │\n",
            "├─────────────────────────────────────────────┼─────┼───────────┼───────────────┼──────────────┼───────────────┼───────────┼───────────────────┤\n",
            "│ Everuse_Cocain, n (%)                       │ 1.0 │ 17        │ 6604 (100.0)  │ 3433 (52.0)  │ 3171 (48.0)   │ <0.001    │ Chi-squared       │\n",
            "├─────────────────────────────────────────────┼─────┼───────────┼───────────────┼──────────────┼───────────────┼───────────┼───────────────────┤\n",
            "│                                             │ 2.0 │           │ 49397 (100.0) │ 47875 (96.9) │ 1522 (3.1)    │           │                   │\n",
            "├─────────────────────────────────────────────┼─────┼───────────┼───────────────┼──────────────┼───────────────┼───────────┼───────────────────┤\n",
            "│ EverUseCrack, n (%)                         │ 1.0 │ 49416     │ 1467 (100.0)  │ 608 (41.4)   │ 859 (58.6)    │ <0.001    │ Chi-squared       │\n",
            "├─────────────────────────────────────────────┼─────┼───────────┼───────────────┼──────────────┼───────────────┼───────────┼───────────────────┤\n",
            "│                                             │ 2.0 │           │ 5135 (100.0)  │ 2824 (55.0)  │ 2311 (45.0)   │           │                   │\n",
            "├─────────────────────────────────────────────┼─────┼───────────┼───────────────┼──────────────┼───────────────┼───────────┼───────────────────┤\n",
            "│ EverUseHeroin, n (%)                        │ 1.0 │ 17        │ 971 (100.0)   │ 381 (39.2)   │ 590 (60.8)    │ <0.001    │ Chi-squared       │\n",
            "├─────────────────────────────────────────────┼─────┼───────────┼───────────────┼──────────────┼───────────────┼───────────┼───────────────────┤\n",
            "│                                             │ 2.0 │           │ 55030 (100.0) │ 50922 (92.5) │ 4108 (7.5)    │           │                   │\n",
            "╘═════════════════════════════════════════════╧═════╧═══════════╧═══════════════╧══════════════╧═══════════════╧═══════════╧═══════════════════╛\n"
          ]
        }
      ]
    },
    {
      "cell_type": "code",
      "source": [
        "mytable19.to_csv('mytable2019.csv')"
      ],
      "metadata": {
        "id": "B1J4khKy-gQK"
      },
      "execution_count": 99,
      "outputs": []
    },
    {
      "cell_type": "code",
      "source": [
        "mytable20 = TableOne(drug20, columns=columns ,categorical = categorical,missing= True,rename= labels, nonnormal= nonnormal ,pval=True, groupby=groupby,htest_name=True,row_percent= True,tukey_test = True,dip_test= True,normal_test= True)\n"
      ],
      "metadata": {
        "colab": {
          "base_uri": "https://localhost:8080/"
        },
        "id": "MicO7iggdK1S",
        "outputId": "f3e54c51-7871-44ce-b2ce-ea5c207ae658"
      },
      "execution_count": 132,
      "outputs": [
        {
          "output_type": "stream",
          "name": "stderr",
          "text": [
            "/usr/local/lib/python3.7/dist-packages/tableone/tableone.py:991: FutureWarning: Using the level keyword in DataFrame and Series aggregations is deprecated and will be removed in a future version. Use groupby instead. df.sum(level=1) should use df.groupby(level=1).sum().\n",
            "  df['percent'] = df['freq'].div(df.freq.sum(level=0),\n"
          ]
        }
      ]
    },
    {
      "cell_type": "code",
      "source": [
        "print(mytable20.tabulate(tablefmt=\"fancy_grid\"))\n"
      ],
      "metadata": {
        "colab": {
          "base_uri": "https://localhost:8080/"
        },
        "id": "rVzIrklndAR_",
        "outputId": "6705d76a-c9f8-4c17-ee60-71a08c95b464"
      },
      "execution_count": 133,
      "outputs": [
        {
          "output_type": "stream",
          "name": "stdout",
          "text": [
            "╒═════════════════════════════════════════════╤══════╤═══════════╤═══════════════╤══════════════╤═══════════════╤═══════════╤═══════════════════════════════════════════╕\n",
            "│                                             │      │ Missing   │ Overall       │ 0            │ 1             │ P-Value   │ Test                                      │\n",
            "╞═════════════════════════════════════════════╪══════╪═══════════╪═══════════════╪══════════════╪═══════════════╪═══════════╪═══════════════════════════════════════════╡\n",
            "│ n                                           │      │           │ 32855         │ 29696        │ 3159          │           │                                           │\n",
            "├─────────────────────────────────────────────┼──────┼───────────┼───────────────┼──────────────┼───────────────┼───────────┼───────────────────────────────────────────┤\n",
            "│ FIRST_SMOKED, mean (SD)                     │      │ 18352     │ 16.2 (4.0)    │ 16.4 (4.0)   │ 15.3 (3.7)    │ <0.001    │ Two Sample T-test                         │\n",
            "├─────────────────────────────────────────────┼──────┼───────────┼───────────────┼──────────────┼───────────────┼───────────┼───────────────────────────────────────────┤\n",
            "│ STARTSMOKEE, mean (SD)                      │      │ 25735     │ 18.3 (4.5)    │ 18.4 (4.5)   │ 17.7 (4.2)    │ <0.001    │ Two Sample T-test                         │\n",
            "├─────────────────────────────────────────────┼──────┼───────────┼───────────────┼──────────────┼───────────────┼───────────┼───────────────────────────────────────────┤\n",
            "│ SMOKELESS_TOBACCO, n (%)                    │ 1.0  │ 11        │ 4493 (100.0)  │ 3260 (72.6)  │ 1233 (27.4)   │ <0.001    │ Chi-squared                               │\n",
            "├─────────────────────────────────────────────┼──────┼───────────┼───────────────┼──────────────┼───────────────┼───────────┼───────────────────────────────────────────┤\n",
            "│                                             │ 2.0  │           │ 28351 (100.0) │ 26427 (93.2) │ 1924 (6.8)    │           │                                           │\n",
            "├─────────────────────────────────────────────┼──────┼───────────┼───────────────┼──────────────┼───────────────┼───────────┼───────────────────────────────────────────┤\n",
            "│ Ever_Alcohol, n (%)                         │ 1.0  │ 13        │ 24496 (100.0) │ 21366 (87.2) │ 3130 (12.8)   │ <0.001    │ Chi-squared                               │\n",
            "├─────────────────────────────────────────────┼──────┼───────────┼───────────────┼──────────────┼───────────────┼───────────┼───────────────────────────────────────────┤\n",
            "│                                             │ 2.0  │           │ 8346 (100.0)  │ 8317 (99.7)  │ 29 (0.3)      │           │                                           │\n",
            "├─────────────────────────────────────────────┼──────┼───────────┼───────────────┼──────────────┼───────────────┼───────────┼───────────────────────────────────────────┤\n",
            "│ Total_Drinkday, mean (SD)                   │      │ 12207     │ 86.6 (94.2)   │ 80.6 (90.3)  │ 126.0 (108.5) │ <0.001    │ Two Sample T-test                         │\n",
            "├─────────────────────────────────────────────┼──────┼───────────┼───────────────┼──────────────┼───────────────┼───────────┼───────────────────────────────────────────┤\n",
            "│ ALCUS30D, mean (SD)                         │      │ 17550     │ 2.7 (3.0)     │ 2.6 (2.9)    │ 3.4 (3.6)     │ <0.001    │ Two Sample T-test                         │\n",
            "├─────────────────────────────────────────────┼──────┼───────────┼───────────────┼──────────────┼───────────────┼───────────┼───────────────────────────────────────────┤\n",
            "│ MariJuana_ever, n (%)                       │ 1.0  │ 19        │ 14824 (100.0) │ 11710 (79.0) │ 3114 (21.0)   │ <0.001    │ Chi-squared                               │\n",
            "├─────────────────────────────────────────────┼──────┼───────────┼───────────────┼──────────────┼───────────────┼───────────┼───────────────────────────────────────────┤\n",
            "│                                             │ 2.0  │           │ 18012 (100.0) │ 17967 (99.8) │ 45 (0.2)      │           │                                           │\n",
            "├─────────────────────────────────────────────┼──────┼───────────┼───────────────┼──────────────┼───────────────┼───────────┼───────────────────────────────────────────┤\n",
            "│ first_Marijuana, mean (SD)                  │      │ 18104     │ 18.0 (5.7)    │ 18.6 (6.0)   │ 15.9 (3.4)    │ <0.001    │ Two Sample T-test                         │\n",
            "├─────────────────────────────────────────────┼──────┼───────────┼───────────────┼──────────────┼───────────────┼───────────┼───────────────────────────────────────────┤\n",
            "│ BMI, mean (SD)                              │      │ 1686      │ 27.0 (6.7)    │ 27.0 (6.8)   │ 26.8 (5.8)    │ 0.077     │ Two Sample T-test                         │\n",
            "├─────────────────────────────────────────────┼──────┼───────────┼───────────────┼──────────────┼───────────────┼───────────┼───────────────────────────────────────────┤\n",
            "│ Number_Marry_Times, n (%)                   │ 1.0  │ 17452     │ 12345 (100.0) │ 11127 (90.1) │ 1218 (9.9)    │ 0.017     │ Chi-squared                               │\n",
            "├─────────────────────────────────────────────┼──────┼───────────┼───────────────┼──────────────┼───────────────┼───────────┼───────────────────────────────────────────┤\n",
            "│                                             │ 2.0  │           │ 3058 (100.0)  │ 2711 (88.7)  │ 347 (11.3)    │           │                                           │\n",
            "├─────────────────────────────────────────────┼──────┼───────────┼───────────────┼──────────────┼───────────────┼───────────┼───────────────────────────────────────────┤\n",
            "│ Drug_When_Drink, n (%)                      │ 1.0  │ 29578     │ 1676 (100.0)  │ 897 (53.5)   │ 779 (46.5)    │ <0.001    │ Chi-squared                               │\n",
            "├─────────────────────────────────────────────┼──────┼───────────┼───────────────┼──────────────┼───────────────┼───────────┼───────────────────────────────────────────┤\n",
            "│                                             │ 2.0  │           │ 1601 (100.0)  │ 1106 (69.1)  │ 495 (30.9)    │           │                                           │\n",
            "├─────────────────────────────────────────────┼──────┼───────────┼───────────────┼──────────────┼───────────────┼───────────┼───────────────────────────────────────────┤\n",
            "│ Sex&Age, n (%)                              │ 1.0  │ 19217     │ 2928 (100.0)  │ 2889 (98.7)  │ 39 (1.3)      │ <0.001    │ Chi-squared                               │\n",
            "├─────────────────────────────────────────────┼──────┼───────────┼───────────────┼──────────────┼───────────────┼───────────┼───────────────────────────────────────────┤\n",
            "│                                             │ 2.0  │           │ 2768 (100.0)  │ 2742 (99.1)  │ 26 (0.9)      │           │                                           │\n",
            "├─────────────────────────────────────────────┼──────┼───────────┼───────────────┼──────────────┼───────────────┼───────────┼───────────────────────────────────────────┤\n",
            "│                                             │ 3.0  │           │ 3529 (100.0)  │ 3110 (88.1)  │ 419 (11.9)    │           │                                           │\n",
            "├─────────────────────────────────────────────┼──────┼───────────┼───────────────┼──────────────┼───────────────┼───────────┼───────────────────────────────────────────┤\n",
            "│                                             │ 4.0  │           │ 4413 (100.0)  │ 4078 (92.4)  │ 335 (7.6)     │           │                                           │\n",
            "├─────────────────────────────────────────────┼──────┼───────────┼───────────────┼──────────────┼───────────────┼───────────┼───────────────────────────────────────────┤\n",
            "│ Race, n (%)                                 │ 1    │ 0         │ 21340 (100.0) │ 18779 (88.0) │ 2561 (12.0)   │ <0.001    │ Chi-squared                               │\n",
            "├─────────────────────────────────────────────┼──────┼───────────┼───────────────┼──────────────┼───────────────┼───────────┼───────────────────────────────────────────┤\n",
            "│                                             │ 2    │           │ 3022 (100.0)  │ 2970 (98.3)  │ 52 (1.7)      │           │                                           │\n",
            "├─────────────────────────────────────────────┼──────┼───────────┼───────────────┼──────────────┼───────────────┼───────────┼───────────────────────────────────────────┤\n",
            "│                                             │ 3    │           │ 291 (100.0)   │ 263 (90.4)   │ 28 (9.6)      │           │                                           │\n",
            "├─────────────────────────────────────────────┼──────┼───────────┼───────────────┼──────────────┼───────────────┼───────────┼───────────────────────────────────────────┤\n",
            "│                                             │ 4    │           │ 133 (100.0)   │ 124 (93.2)   │ 9 (6.8)       │           │                                           │\n",
            "├─────────────────────────────────────────────┼──────┼───────────┼───────────────┼──────────────┼───────────────┼───────────┼───────────────────────────────────────────┤\n",
            "│                                             │ 5    │           │ 1855 (100.0)  │ 1790 (96.5)  │ 65 (3.5)      │           │                                           │\n",
            "├─────────────────────────────────────────────┼──────┼───────────┼───────────────┼──────────────┼───────────────┼───────────┼───────────────────────────────────────────┤\n",
            "│                                             │ 6    │           │ 1327 (100.0)  │ 1173 (88.4)  │ 154 (11.6)    │           │                                           │\n",
            "├─────────────────────────────────────────────┼──────┼───────────┼───────────────┼──────────────┼───────────────┼───────────┼───────────────────────────────────────────┤\n",
            "│                                             │ 7    │           │ 4887 (100.0)  │ 4597 (94.1)  │ 290 (5.9)     │           │                                           │\n",
            "├─────────────────────────────────────────────┼──────┼───────────┼───────────────┼──────────────┼───────────────┼───────────┼───────────────────────────────────────────┤\n",
            "│ Sex&Race, n (%)                             │ 1    │ 0         │ 9916 (100.0)  │ 8441 (85.1)  │ 1475 (14.9)   │ <0.001    │ Chi-squared                               │\n",
            "├─────────────────────────────────────────────┼──────┼───────────┼───────────────┼──────────────┼───────────────┼───────────┼───────────────────────────────────────────┤\n",
            "│                                             │ 2    │           │ 11424 (100.0) │ 10338 (90.5) │ 1086 (9.5)    │           │                                           │\n",
            "├─────────────────────────────────────────────┼──────┼───────────┼───────────────┼──────────────┼───────────────┼───────────┼───────────────────────────────────────────┤\n",
            "│                                             │ 3    │           │ 1317 (100.0)  │ 1283 (97.4)  │ 34 (2.6)      │           │                                           │\n",
            "├─────────────────────────────────────────────┼──────┼───────────┼───────────────┼──────────────┼───────────────┼───────────┼───────────────────────────────────────────┤\n",
            "│                                             │ 4    │           │ 1705 (100.0)  │ 1687 (98.9)  │ 18 (1.1)      │           │                                           │\n",
            "├─────────────────────────────────────────────┼──────┼───────────┼───────────────┼──────────────┼───────────────┼───────────┼───────────────────────────────────────────┤\n",
            "│                                             │ 5    │           │ 2223 (100.0)  │ 2054 (92.4)  │ 169 (7.6)     │           │                                           │\n",
            "├─────────────────────────────────────────────┼──────┼───────────┼───────────────┼──────────────┼───────────────┼───────────┼───────────────────────────────────────────┤\n",
            "│                                             │ 6    │           │ 2664 (100.0)  │ 2543 (95.5)  │ 121 (4.5)     │           │                                           │\n",
            "├─────────────────────────────────────────────┼──────┼───────────┼───────────────┼──────────────┼───────────────┼───────────┼───────────────────────────────────────────┤\n",
            "│                                             │ 7    │           │ 3606 (100.0)  │ 3350 (92.9)  │ 256 (7.1)     │           │                                           │\n",
            "├─────────────────────────────────────────────┼──────┼───────────┼───────────────┼──────────────┼───────────────┼───────────┼───────────────────────────────────────────┤\n",
            "│ Health_Condition, n (%)                     │ 1.0  │ 9         │ 7775 (100.0)  │ 7239 (93.1)  │ 536 (6.9)     │ <0.001    │ Chi-squared                               │\n",
            "├─────────────────────────────────────────────┼──────┼───────────┼───────────────┼──────────────┼───────────────┼───────────┼───────────────────────────────────────────┤\n",
            "│                                             │ 2.0  │           │ 13187 (100.0) │ 11911 (90.3) │ 1276 (9.7)    │           │                                           │\n",
            "├─────────────────────────────────────────────┼──────┼───────────┼───────────────┼──────────────┼───────────────┼───────────┼───────────────────────────────────────────┤\n",
            "│                                             │ 3.0  │           │ 8965 (100.0)  │ 7990 (89.1)  │ 975 (10.9)    │           │                                           │\n",
            "├─────────────────────────────────────────────┼──────┼───────────┼───────────────┼──────────────┼───────────────┼───────────┼───────────────────────────────────────────┤\n",
            "│                                             │ 4.0  │           │ 2536 (100.0)  │ 2221 (87.6)  │ 315 (12.4)    │           │                                           │\n",
            "├─────────────────────────────────────────────┼──────┼───────────┼───────────────┼──────────────┼───────────────┼───────────┼───────────────────────────────────────────┤\n",
            "│                                             │ 5.0  │           │ 383 (100.0)   │ 328 (85.6)   │ 55 (14.4)     │           │                                           │\n",
            "├─────────────────────────────────────────────┼──────┼───────────┼───────────────┼──────────────┼───────────────┼───────────┼───────────────────────────────────────────┤\n",
            "│ Currently_School, n (%)                     │ 1.0  │ 1435      │ 8828 (100.0)  │ 8444 (95.7)  │ 384 (4.3)     │ <0.001    │ Chi-squared                               │\n",
            "├─────────────────────────────────────────────┼──────┼───────────┼───────────────┼──────────────┼───────────────┼───────────┼───────────────────────────────────────────┤\n",
            "│                                             │ 2.0  │           │ 22592 (100.0) │ 19987 (88.5) │ 2605 (11.5)   │           │                                           │\n",
            "├─────────────────────────────────────────────┼──────┼───────────┼───────────────┼──────────────┼───────────────┼───────────┼───────────────────────────────────────────┤\n",
            "│ SEXUAL IDENTITY, n (%)                      │ 1.0  │ 7111      │ 23110 (100.0) │ 20706 (89.6) │ 2404 (10.4)   │ <0.001    │ Chi-squared                               │\n",
            "├─────────────────────────────────────────────┼──────┼───────────┼───────────────┼──────────────┼───────────────┼───────────┼───────────────────────────────────────────┤\n",
            "│                                             │ 2.0  │           │ 711 (100.0)   │ 609 (85.7)   │ 102 (14.3)    │           │                                           │\n",
            "├─────────────────────────────────────────────┼──────┼───────────┼───────────────┼──────────────┼───────────────┼───────────┼───────────────────────────────────────────┤\n",
            "│                                             │ 3.0  │           │ 1923 (100.0)  │ 1499 (78.0)  │ 424 (22.0)    │           │                                           │\n",
            "├─────────────────────────────────────────────┼──────┼───────────┼───────────────┼──────────────┼───────────────┼───────────┼───────────────────────────────────────────┤\n",
            "│ Difficult_Thinking, n (%)                   │ 1.0  │ 1262      │ 3487 (100.0)  │ 3005 (86.2)  │ 482 (13.8)    │ <0.001    │ Chi-squared                               │\n",
            "├─────────────────────────────────────────────┼──────┼───────────┼───────────────┼──────────────┼───────────────┼───────────┼───────────────────────────────────────────┤\n",
            "│                                             │ 2.0  │           │ 28106 (100.0) │ 25582 (91.0) │ 2524 (9.0)    │           │                                           │\n",
            "├─────────────────────────────────────────────┼──────┼───────────┼───────────────┼──────────────┼───────────────┼───────────┼───────────────────────────────────────────┤\n",
            "│ Difficult_Doing_Errand, n (%)               │ 1.0  │ 4137      │ 1553 (100.0)  │ 1326 (85.4)  │ 227 (14.6)    │ <0.001    │ Chi-squared                               │\n",
            "├─────────────────────────────────────────────┼──────┼───────────┼───────────────┼──────────────┼───────────────┼───────────┼───────────────────────────────────────────┤\n",
            "│                                             │ 2.0  │           │ 27165 (100.0) │ 24394 (89.8) │ 2771 (10.2)   │           │                                           │\n",
            "├─────────────────────────────────────────────┼──────┼───────────┼───────────────┼──────────────┼───────────────┼───────────┼───────────────────────────────────────────┤\n",
            "│ EDUCATION-RECODED_IMPUTATION_REVISED, n (%) │ 1    │ 0         │ 487 (100.0)   │ 483 (99.2)   │ 4 (0.8)       │ <0.001    │ Chi-squared                               │\n",
            "├─────────────────────────────────────────────┼──────┼───────────┼───────────────┼──────────────┼───────────────┼───────────┼───────────────────────────────────────────┤\n",
            "│                                             │ 10   │           │ 2335 (100.0)  │ 2046 (87.6)  │ 289 (12.4)    │           │                                           │\n",
            "├─────────────────────────────────────────────┼──────┼───────────┼───────────────┼──────────────┼───────────────┼───────────┼───────────────────────────────────────────┤\n",
            "│                                             │ 11   │           │ 10870 (100.0) │ 9560 (87.9)  │ 1310 (12.1)   │           │                                           │\n",
            "├─────────────────────────────────────────────┼──────┼───────────┼───────────────┼──────────────┼───────────────┼───────────┼───────────────────────────────────────────┤\n",
            "│                                             │ 2    │           │ 1046 (100.0)  │ 1040 (99.4)  │ 6 (0.6)       │           │                                           │\n",
            "├─────────────────────────────────────────────┼──────┼───────────┼───────────────┼──────────────┼───────────────┼───────────┼───────────────────────────────────────────┤\n",
            "│                                             │ 3    │           │ 1086 (100.0)  │ 1080 (99.4)  │ 6 (0.6)       │           │                                           │\n",
            "├─────────────────────────────────────────────┼──────┼───────────┼───────────────┼──────────────┼───────────────┼───────────┼───────────────────────────────────────────┤\n",
            "│                                             │ 4    │           │ 1160 (100.0)  │ 1143 (98.5)  │ 17 (1.5)      │           │                                           │\n",
            "├─────────────────────────────────────────────┼──────┼───────────┼───────────────┼──────────────┼───────────────┼───────────┼───────────────────────────────────────────┤\n",
            "│                                             │ 5    │           │ 1217 (100.0)  │ 1187 (97.5)  │ 30 (2.5)      │           │                                           │\n",
            "├─────────────────────────────────────────────┼──────┼───────────┼───────────────┼──────────────┼───────────────┼───────────┼───────────────────────────────────────────┤\n",
            "│                                             │ 6    │           │ 1201 (100.0)  │ 1142 (95.1)  │ 59 (4.9)      │           │                                           │\n",
            "├─────────────────────────────────────────────┼──────┼───────────┼───────────────┼──────────────┼───────────────┼───────────┼───────────────────────────────────────────┤\n",
            "│                                             │ 7    │           │ 1710 (100.0)  │ 1615 (94.4)  │ 95 (5.6)      │           │                                           │\n",
            "├─────────────────────────────────────────────┼──────┼───────────┼───────────────┼──────────────┼───────────────┼───────────┼───────────────────────────────────────────┤\n",
            "│                                             │ 8    │           │ 5702 (100.0)  │ 5125 (89.9)  │ 577 (10.1)    │           │                                           │\n",
            "├─────────────────────────────────────────────┼──────┼───────────┼───────────────┼──────────────┼───────────────┼───────────┼───────────────────────────────────────────┤\n",
            "│                                             │ 9    │           │ 6041 (100.0)  │ 5275 (87.3)  │ 766 (12.7)    │           │                                           │\n",
            "├─────────────────────────────────────────────┼──────┼───────────┼───────────────┼──────────────┼───────────────┼───────────┼───────────────────────────────────────────┤\n",
            "│ WORK_SITUATION_PastWeek, n (%)              │ 1.0  │ 7056      │ 12611 (100.0) │ 10996 (87.2) │ 1615 (12.8)   │ <0.001    │ Chi-squared                               │\n",
            "├─────────────────────────────────────────────┼──────┼───────────┼───────────────┼──────────────┼───────────────┼───────────┼───────────────────────────────────────────┤\n",
            "│                                             │ 2.0  │           │ 3839 (100.0)  │ 3459 (90.1)  │ 380 (9.9)     │           │                                           │\n",
            "├─────────────────────────────────────────────┼──────┼───────────┼───────────────┼──────────────┼───────────────┼───────────┼───────────────────────────────────────────┤\n",
            "│                                             │ 3.0  │           │ 1552 (100.0)  │ 1391 (89.6)  │ 161 (10.4)    │           │                                           │\n",
            "├─────────────────────────────────────────────┼──────┼───────────┼───────────────┼──────────────┼───────────────┼───────────┼───────────────────────────────────────────┤\n",
            "│                                             │ 4.0  │           │ 1315 (100.0)  │ 1137 (86.5)  │ 178 (13.5)    │           │                                           │\n",
            "├─────────────────────────────────────────────┼──────┼───────────┼───────────────┼──────────────┼───────────────┼───────────┼───────────────────────────────────────────┤\n",
            "│                                             │ 5.0  │           │ 796 (100.0)   │ 680 (85.4)   │ 116 (14.6)    │           │                                           │\n",
            "├─────────────────────────────────────────────┼──────┼───────────┼───────────────┼──────────────┼───────────────┼───────────┼───────────────────────────────────────────┤\n",
            "│                                             │ 6.0  │           │ 1191 (100.0)  │ 1095 (91.9)  │ 96 (8.1)      │           │                                           │\n",
            "├─────────────────────────────────────────────┼──────┼───────────┼───────────────┼──────────────┼───────────────┼───────────┼───────────────────────────────────────────┤\n",
            "│                                             │ 7.0  │           │ 2034 (100.0)  │ 1946 (95.7)  │ 88 (4.3)      │           │                                           │\n",
            "├─────────────────────────────────────────────┼──────┼───────────┼───────────────┼──────────────┼───────────────┼───────────┼───────────────────────────────────────────┤\n",
            "│                                             │ 8.0  │           │ 2461 (100.0)  │ 2325 (94.5)  │ 136 (5.5)     │           │                                           │\n",
            "├─────────────────────────────────────────────┼──────┼───────────┼───────────────┼──────────────┼───────────────┼───────────┼───────────────────────────────────────────┤\n",
            "│ Work_Hours_lastweek, mean (SD)              │      │ 16438     │ 36.2 (13.5)   │ 36.0 (13.6)  │ 37.5 (12.4)   │ <0.001    │ Two Sample T-test                         │\n",
            "├─────────────────────────────────────────────┼──────┼───────────┼───────────────┼──────────────┼───────────────┼───────────┼───────────────────────────────────────────┤\n",
            "│ ALCOHOL ABUSE OR ALCOHOLISM, n (%)          │ 1.0  │ 16870     │ 12305 (100.0) │ 11052 (89.8) │ 1253 (10.2)   │ 0.081     │ Chi-squared                               │\n",
            "├─────────────────────────────────────────────┼──────┼───────────┼───────────────┼──────────────┼───────────────┼───────────┼───────────────────────────────────────────┤\n",
            "│                                             │ 2.0  │           │ 3680 (100.0)  │ 3342 (90.8)  │ 338 (9.2)     │           │                                           │\n",
            "├─────────────────────────────────────────────┼──────┼───────────┼───────────────┼──────────────┼───────────────┼───────────┼───────────────────────────────────────────┤\n",
            "│ HLTINDRG, n (%)                             │ 1.0  │ 16772     │ 12281 (100.0) │ 11019 (89.7) │ 1262 (10.3)   │ 0.033     │ Chi-squared                               │\n",
            "├─────────────────────────────────────────────┼──────┼───────────┼───────────────┼──────────────┼───────────────┼───────────┼───────────────────────────────────────────┤\n",
            "│                                             │ 2.0  │           │ 3802 (100.0)  │ 3457 (90.9)  │ 345 (9.1)     │           │                                           │\n",
            "├─────────────────────────────────────────────┼──────┼───────────┼───────────────┼──────────────┼───────────────┼───────────┼───────────────────────────────────────────┤\n",
            "│ MENTAL OR EMOTIONAL DIFFICULTIES, n (%)     │ 1.0  │ 14622     │ 15773 (100.0) │ 14203 (90.0) │ 1570 (10.0)   │ 0.015     │ Chi-squared                               │\n",
            "├─────────────────────────────────────────────┼──────┼───────────┼───────────────┼──────────────┼───────────────┼───────────┼───────────────────────────────────────────┤\n",
            "│                                             │ 2.0  │           │ 2460 (100.0)  │ 2254 (91.6)  │ 206 (8.4)     │           │                                           │\n",
            "├─────────────────────────────────────────────┼──────┼───────────┼───────────────┼──────────────┼───────────────┼───────────┼───────────────────────────────────────────┤\n",
            "│ Everuse_Cocain, n (%)                       │ 1.0  │ 8         │ 3900 (100.0)  │ 1848 (47.4)  │ 2052 (52.6)   │ <0.001    │ Chi-squared (warning: expected count < 5) │\n",
            "├─────────────────────────────────────────────┼──────┼───────────┼───────────────┼──────────────┼───────────────┼───────────┼───────────────────────────────────────────┤\n",
            "│                                             │ 2.0  │           │ 28946 (100.0) │ 27840 (96.2) │ 1106 (3.8)    │           │                                           │\n",
            "├─────────────────────────────────────────────┼──────┼───────────┼───────────────┼──────────────┼───────────────┼───────────┼───────────────────────────────────────────┤\n",
            "│                                             │ 85.0 │           │ 1 (100.0)     │ 1 (100.0)    │               │           │                                           │\n",
            "├─────────────────────────────────────────────┼──────┼───────────┼───────────────┼──────────────┼───────────────┼───────────┼───────────────────────────────────────────┤\n",
            "│ EverUseCrack, n (%)                         │ 1.0  │ 28957     │ 812 (100.0)   │ 314 (38.7)   │ 498 (61.3)    │ <0.001    │ Chi-squared                               │\n",
            "├─────────────────────────────────────────────┼──────┼───────────┼───────────────┼──────────────┼───────────────┼───────────┼───────────────────────────────────────────┤\n",
            "│                                             │ 2.0  │           │ 3086 (100.0)  │ 1534 (49.7)  │ 1552 (50.3)   │           │                                           │\n",
            "├─────────────────────────────────────────────┼──────┼───────────┼───────────────┼──────────────┼───────────────┼───────────┼───────────────────────────────────────────┤\n",
            "│ EverUseHeroin, n (%)                        │ 1.0  │ 4         │ 578 (100.0)   │ 197 (34.1)   │ 381 (65.9)    │ <0.001    │ Chi-squared                               │\n",
            "├─────────────────────────────────────────────┼──────┼───────────┼───────────────┼──────────────┼───────────────┼───────────┼───────────────────────────────────────────┤\n",
            "│                                             │ 2.0  │           │ 32273 (100.0) │ 29495 (91.4) │ 2778 (8.6)    │           │                                           │\n",
            "╘═════════════════════════════════════════════╧══════╧═══════════╧═══════════════╧══════════════╧═══════════════╧═══════════╧═══════════════════════════════════════════╛\n"
          ]
        }
      ]
    },
    {
      "cell_type": "code",
      "source": [
        "mytable20.to_csv('mytable2020.csv')\n"
      ],
      "metadata": {
        "id": "O2vnWvYx8XIh"
      },
      "execution_count": 98,
      "outputs": []
    },
    {
      "cell_type": "code",
      "source": [
        "mytable = TableOne(df20, columns=columns ,nonnormal= nonnormal , groupby=groupby, pval=True)"
      ],
      "metadata": {
        "id": "ZJR2XLkDc-P8"
      },
      "execution_count": null,
      "outputs": []
    }
  ]
}